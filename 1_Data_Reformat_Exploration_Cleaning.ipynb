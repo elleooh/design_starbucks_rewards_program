{
 "cells": [
  {
   "cell_type": "code",
   "execution_count": 1,
   "id": "amber-aquarium",
   "metadata": {
    "ExecuteTime": {
     "end_time": "2021-03-04T01:40:18.077955Z",
     "start_time": "2021-03-04T01:40:15.770886Z"
    }
   },
   "outputs": [],
   "source": [
    "import pandas as pd\n",
    "import json\n",
    "import matplotlib.pyplot as plt\n",
    "%matplotlib inline\n",
    "\n",
    "# read in the json files\n",
    "portfolio = pd.read_json('data/portfolio.json', orient='records', lines=True)\n",
    "profile = pd.read_json('data/profile.json', orient='records', lines=True)\n",
    "transcript = pd.read_json('data/transcript.json', orient='records', lines=True)"
   ]
  },
  {
   "cell_type": "code",
   "execution_count": 2,
   "id": "coordinate-robert",
   "metadata": {
    "ExecuteTime": {
     "end_time": "2021-03-04T01:40:18.105214Z",
     "start_time": "2021-03-04T01:40:18.080005Z"
    },
    "scrolled": true
   },
   "outputs": [
    {
     "data": {
      "text/html": [
       "<div>\n",
       "<style scoped>\n",
       "    .dataframe tbody tr th:only-of-type {\n",
       "        vertical-align: middle;\n",
       "    }\n",
       "\n",
       "    .dataframe tbody tr th {\n",
       "        vertical-align: top;\n",
       "    }\n",
       "\n",
       "    .dataframe thead th {\n",
       "        text-align: right;\n",
       "    }\n",
       "</style>\n",
       "<table border=\"1\" class=\"dataframe\">\n",
       "  <thead>\n",
       "    <tr style=\"text-align: right;\">\n",
       "      <th></th>\n",
       "      <th>reward</th>\n",
       "      <th>channels</th>\n",
       "      <th>difficulty</th>\n",
       "      <th>duration</th>\n",
       "      <th>offer_type</th>\n",
       "      <th>id</th>\n",
       "    </tr>\n",
       "  </thead>\n",
       "  <tbody>\n",
       "    <tr>\n",
       "      <th>0</th>\n",
       "      <td>10</td>\n",
       "      <td>[email, mobile, social]</td>\n",
       "      <td>10</td>\n",
       "      <td>7</td>\n",
       "      <td>bogo</td>\n",
       "      <td>ae264e3637204a6fb9bb56bc8210ddfd</td>\n",
       "    </tr>\n",
       "    <tr>\n",
       "      <th>1</th>\n",
       "      <td>10</td>\n",
       "      <td>[web, email, mobile, social]</td>\n",
       "      <td>10</td>\n",
       "      <td>5</td>\n",
       "      <td>bogo</td>\n",
       "      <td>4d5c57ea9a6940dd891ad53e9dbe8da0</td>\n",
       "    </tr>\n",
       "    <tr>\n",
       "      <th>2</th>\n",
       "      <td>0</td>\n",
       "      <td>[web, email, mobile]</td>\n",
       "      <td>0</td>\n",
       "      <td>4</td>\n",
       "      <td>informational</td>\n",
       "      <td>3f207df678b143eea3cee63160fa8bed</td>\n",
       "    </tr>\n",
       "    <tr>\n",
       "      <th>3</th>\n",
       "      <td>5</td>\n",
       "      <td>[web, email, mobile]</td>\n",
       "      <td>5</td>\n",
       "      <td>7</td>\n",
       "      <td>bogo</td>\n",
       "      <td>9b98b8c7a33c4b65b9aebfe6a799e6d9</td>\n",
       "    </tr>\n",
       "    <tr>\n",
       "      <th>4</th>\n",
       "      <td>5</td>\n",
       "      <td>[web, email]</td>\n",
       "      <td>20</td>\n",
       "      <td>10</td>\n",
       "      <td>discount</td>\n",
       "      <td>0b1e1539f2cc45b7b9fa7c272da2e1d7</td>\n",
       "    </tr>\n",
       "  </tbody>\n",
       "</table>\n",
       "</div>"
      ],
      "text/plain": [
       "   reward                      channels  difficulty  duration     offer_type  \\\n",
       "0      10       [email, mobile, social]          10         7           bogo   \n",
       "1      10  [web, email, mobile, social]          10         5           bogo   \n",
       "2       0          [web, email, mobile]           0         4  informational   \n",
       "3       5          [web, email, mobile]           5         7           bogo   \n",
       "4       5                  [web, email]          20        10       discount   \n",
       "\n",
       "                                 id  \n",
       "0  ae264e3637204a6fb9bb56bc8210ddfd  \n",
       "1  4d5c57ea9a6940dd891ad53e9dbe8da0  \n",
       "2  3f207df678b143eea3cee63160fa8bed  \n",
       "3  9b98b8c7a33c4b65b9aebfe6a799e6d9  \n",
       "4  0b1e1539f2cc45b7b9fa7c272da2e1d7  "
      ]
     },
     "execution_count": 2,
     "metadata": {},
     "output_type": "execute_result"
    }
   ],
   "source": [
    "portfolio.head()"
   ]
  },
  {
   "cell_type": "code",
   "execution_count": 3,
   "id": "answering-clerk",
   "metadata": {
    "ExecuteTime": {
     "end_time": "2021-03-04T01:40:18.115600Z",
     "start_time": "2021-03-04T01:40:18.106835Z"
    }
   },
   "outputs": [
    {
     "data": {
      "text/html": [
       "<div>\n",
       "<style scoped>\n",
       "    .dataframe tbody tr th:only-of-type {\n",
       "        vertical-align: middle;\n",
       "    }\n",
       "\n",
       "    .dataframe tbody tr th {\n",
       "        vertical-align: top;\n",
       "    }\n",
       "\n",
       "    .dataframe thead th {\n",
       "        text-align: right;\n",
       "    }\n",
       "</style>\n",
       "<table border=\"1\" class=\"dataframe\">\n",
       "  <thead>\n",
       "    <tr style=\"text-align: right;\">\n",
       "      <th></th>\n",
       "      <th>gender</th>\n",
       "      <th>age</th>\n",
       "      <th>id</th>\n",
       "      <th>became_member_on</th>\n",
       "      <th>income</th>\n",
       "    </tr>\n",
       "  </thead>\n",
       "  <tbody>\n",
       "    <tr>\n",
       "      <th>0</th>\n",
       "      <td>None</td>\n",
       "      <td>118</td>\n",
       "      <td>68be06ca386d4c31939f3a4f0e3dd783</td>\n",
       "      <td>20170212</td>\n",
       "      <td>NaN</td>\n",
       "    </tr>\n",
       "    <tr>\n",
       "      <th>1</th>\n",
       "      <td>F</td>\n",
       "      <td>55</td>\n",
       "      <td>0610b486422d4921ae7d2bf64640c50b</td>\n",
       "      <td>20170715</td>\n",
       "      <td>112000.0</td>\n",
       "    </tr>\n",
       "    <tr>\n",
       "      <th>2</th>\n",
       "      <td>None</td>\n",
       "      <td>118</td>\n",
       "      <td>38fe809add3b4fcf9315a9694bb96ff5</td>\n",
       "      <td>20180712</td>\n",
       "      <td>NaN</td>\n",
       "    </tr>\n",
       "    <tr>\n",
       "      <th>3</th>\n",
       "      <td>F</td>\n",
       "      <td>75</td>\n",
       "      <td>78afa995795e4d85b5d9ceeca43f5fef</td>\n",
       "      <td>20170509</td>\n",
       "      <td>100000.0</td>\n",
       "    </tr>\n",
       "    <tr>\n",
       "      <th>4</th>\n",
       "      <td>None</td>\n",
       "      <td>118</td>\n",
       "      <td>a03223e636434f42ac4c3df47e8bac43</td>\n",
       "      <td>20170804</td>\n",
       "      <td>NaN</td>\n",
       "    </tr>\n",
       "  </tbody>\n",
       "</table>\n",
       "</div>"
      ],
      "text/plain": [
       "  gender  age                                id  became_member_on    income\n",
       "0   None  118  68be06ca386d4c31939f3a4f0e3dd783          20170212       NaN\n",
       "1      F   55  0610b486422d4921ae7d2bf64640c50b          20170715  112000.0\n",
       "2   None  118  38fe809add3b4fcf9315a9694bb96ff5          20180712       NaN\n",
       "3      F   75  78afa995795e4d85b5d9ceeca43f5fef          20170509  100000.0\n",
       "4   None  118  a03223e636434f42ac4c3df47e8bac43          20170804       NaN"
      ]
     },
     "execution_count": 3,
     "metadata": {},
     "output_type": "execute_result"
    }
   ],
   "source": [
    "profile.head()"
   ]
  },
  {
   "cell_type": "code",
   "execution_count": 4,
   "id": "limiting-first",
   "metadata": {
    "ExecuteTime": {
     "end_time": "2021-03-04T01:40:18.126880Z",
     "start_time": "2021-03-04T01:40:18.117518Z"
    }
   },
   "outputs": [
    {
     "data": {
      "text/html": [
       "<div>\n",
       "<style scoped>\n",
       "    .dataframe tbody tr th:only-of-type {\n",
       "        vertical-align: middle;\n",
       "    }\n",
       "\n",
       "    .dataframe tbody tr th {\n",
       "        vertical-align: top;\n",
       "    }\n",
       "\n",
       "    .dataframe thead th {\n",
       "        text-align: right;\n",
       "    }\n",
       "</style>\n",
       "<table border=\"1\" class=\"dataframe\">\n",
       "  <thead>\n",
       "    <tr style=\"text-align: right;\">\n",
       "      <th></th>\n",
       "      <th>person</th>\n",
       "      <th>event</th>\n",
       "      <th>value</th>\n",
       "      <th>time</th>\n",
       "    </tr>\n",
       "  </thead>\n",
       "  <tbody>\n",
       "    <tr>\n",
       "      <th>0</th>\n",
       "      <td>78afa995795e4d85b5d9ceeca43f5fef</td>\n",
       "      <td>offer received</td>\n",
       "      <td>{'offer id': '9b98b8c7a33c4b65b9aebfe6a799e6d9'}</td>\n",
       "      <td>0</td>\n",
       "    </tr>\n",
       "    <tr>\n",
       "      <th>1</th>\n",
       "      <td>a03223e636434f42ac4c3df47e8bac43</td>\n",
       "      <td>offer received</td>\n",
       "      <td>{'offer id': '0b1e1539f2cc45b7b9fa7c272da2e1d7'}</td>\n",
       "      <td>0</td>\n",
       "    </tr>\n",
       "    <tr>\n",
       "      <th>2</th>\n",
       "      <td>e2127556f4f64592b11af22de27a7932</td>\n",
       "      <td>offer received</td>\n",
       "      <td>{'offer id': '2906b810c7d4411798c6938adc9daaa5'}</td>\n",
       "      <td>0</td>\n",
       "    </tr>\n",
       "    <tr>\n",
       "      <th>3</th>\n",
       "      <td>8ec6ce2a7e7949b1bf142def7d0e0586</td>\n",
       "      <td>offer received</td>\n",
       "      <td>{'offer id': 'fafdcd668e3743c1bb461111dcafc2a4'}</td>\n",
       "      <td>0</td>\n",
       "    </tr>\n",
       "    <tr>\n",
       "      <th>4</th>\n",
       "      <td>68617ca6246f4fbc85e91a2a49552598</td>\n",
       "      <td>offer received</td>\n",
       "      <td>{'offer id': '4d5c57ea9a6940dd891ad53e9dbe8da0'}</td>\n",
       "      <td>0</td>\n",
       "    </tr>\n",
       "  </tbody>\n",
       "</table>\n",
       "</div>"
      ],
      "text/plain": [
       "                             person           event  \\\n",
       "0  78afa995795e4d85b5d9ceeca43f5fef  offer received   \n",
       "1  a03223e636434f42ac4c3df47e8bac43  offer received   \n",
       "2  e2127556f4f64592b11af22de27a7932  offer received   \n",
       "3  8ec6ce2a7e7949b1bf142def7d0e0586  offer received   \n",
       "4  68617ca6246f4fbc85e91a2a49552598  offer received   \n",
       "\n",
       "                                              value  time  \n",
       "0  {'offer id': '9b98b8c7a33c4b65b9aebfe6a799e6d9'}     0  \n",
       "1  {'offer id': '0b1e1539f2cc45b7b9fa7c272da2e1d7'}     0  \n",
       "2  {'offer id': '2906b810c7d4411798c6938adc9daaa5'}     0  \n",
       "3  {'offer id': 'fafdcd668e3743c1bb461111dcafc2a4'}     0  \n",
       "4  {'offer id': '4d5c57ea9a6940dd891ad53e9dbe8da0'}     0  "
      ]
     },
     "execution_count": 4,
     "metadata": {},
     "output_type": "execute_result"
    }
   ],
   "source": [
    "transcript.head()"
   ]
  },
  {
   "cell_type": "code",
   "execution_count": 5,
   "id": "pleasant-johnson",
   "metadata": {
    "ExecuteTime": {
     "end_time": "2021-03-04T01:40:18.134888Z",
     "start_time": "2021-03-04T01:40:18.128826Z"
    }
   },
   "outputs": [],
   "source": [
    "def plot_hist(df, exclude_col=None, include_col=None):\n",
    "    if not exclude_col and not include_col:\n",
    "        feature_lst = list(df.columns)        \n",
    "    if exclude_col:\n",
    "        feature_lst = set(list(df.columns))-set(exclude_col)\n",
    "    if include_col:\n",
    "        feature_lst = include_col\n",
    "    \n",
    "    for col in feature_lst:\n",
    "        if df[col].dtypes == 'object':\n",
    "            counts = df.groupby(col).size()\n",
    "            plt.bar(list(counts.index), list(counts.values))\n",
    "            plt.xlabel(col) \n",
    "            plt.show()\n",
    "        else:\n",
    "            plt.hist(df[col])\n",
    "            plt.xlabel(col)\n",
    "            plt.show()"
   ]
  },
  {
   "cell_type": "markdown",
   "id": "satellite-curtis",
   "metadata": {
    "ExecuteTime": {
     "end_time": "2021-03-01T02:32:23.233431Z",
     "start_time": "2021-03-01T02:32:23.218769Z"
    }
   },
   "source": [
    "## Portfolio"
   ]
  },
  {
   "cell_type": "markdown",
   "id": "protecting-utility",
   "metadata": {},
   "source": [
    "### Add channels columns"
   ]
  },
  {
   "cell_type": "code",
   "execution_count": 6,
   "id": "soviet-magnet",
   "metadata": {
    "ExecuteTime": {
     "end_time": "2021-03-04T01:40:18.139766Z",
     "start_time": "2021-03-04T01:40:18.136790Z"
    }
   },
   "outputs": [],
   "source": [
    "channels_lst = ['web', 'email', 'mobile', 'social']"
   ]
  },
  {
   "cell_type": "code",
   "execution_count": 7,
   "id": "detected-framework",
   "metadata": {
    "ExecuteTime": {
     "end_time": "2021-03-04T01:40:18.153105Z",
     "start_time": "2021-03-04T01:40:18.143314Z"
    }
   },
   "outputs": [],
   "source": [
    "channels_df = pd.DataFrame(columns = channels_lst)"
   ]
  },
  {
   "cell_type": "code",
   "execution_count": 8,
   "id": "bored-density",
   "metadata": {
    "ExecuteTime": {
     "end_time": "2021-03-04T01:40:18.166355Z",
     "start_time": "2021-03-04T01:40:18.156728Z"
    },
    "scrolled": true
   },
   "outputs": [],
   "source": [
    "portfolio = pd.concat([portfolio, channels_df], axis=1)"
   ]
  },
  {
   "cell_type": "code",
   "execution_count": 9,
   "id": "choice-deviation",
   "metadata": {
    "ExecuteTime": {
     "end_time": "2021-03-04T01:40:18.177009Z",
     "start_time": "2021-03-04T01:40:18.169063Z"
    }
   },
   "outputs": [],
   "source": [
    "for channel in channels_lst:\n",
    "    portfolio[channel] = portfolio['channels'].apply(lambda x: 1 if channel in x else 0)"
   ]
  },
  {
   "cell_type": "code",
   "execution_count": 10,
   "id": "foster-steering",
   "metadata": {
    "ExecuteTime": {
     "end_time": "2021-03-04T01:40:18.185289Z",
     "start_time": "2021-03-04T01:40:18.179604Z"
    }
   },
   "outputs": [],
   "source": [
    "portfolio.drop(columns=['channels'], inplace=True)"
   ]
  },
  {
   "cell_type": "code",
   "execution_count": 11,
   "id": "official-applicant",
   "metadata": {
    "ExecuteTime": {
     "end_time": "2021-03-04T01:40:19.767089Z",
     "start_time": "2021-03-04T01:40:18.186995Z"
    }
   },
   "outputs": [
    {
     "data": {
      "image/png": "[encoded data removed]",
      "text/plain": [
       "<Figure size 432x288 with 1 Axes>"
      ]
     },
     "metadata": {
      "needs_background": "light"
     },
     "output_type": "display_data"
    },
    {
     "data": {
      "image/png": "[encoded data removed]",
      "text/plain": [
       "<Figure size 432x288 with 1 Axes>"
      ]
     },
     "metadata": {
      "needs_background": "light"
     },
     "output_type": "display_data"
    },
    {
     "data": {
      "image/png": "[encoded data removed]",
      "text/plain": [
       "<Figure size 432x288 with 1 Axes>"
      ]
     },
     "metadata": {
      "needs_background": "light"
     },
     "output_type": "display_data"
    },
    {
     "data": {
      "image/png": "[encoded data removed]",
      "text/plain": [
       "<Figure size 432x288 with 1 Axes>"
      ]
     },
     "metadata": {
      "needs_background": "light"
     },
     "output_type": "display_data"
    },
    {
     "data": {
      "image/png": "[encoded data removed]",
      "text/plain": [
       "<Figure size 432x288 with 1 Axes>"
      ]
     },
     "metadata": {
      "needs_background": "light"
     },
     "output_type": "display_data"
    },
    {
     "data": {
      "image/png": "[encoded data removed]",
      "text/plain": [
       "<Figure size 432x288 with 1 Axes>"
      ]
     },
     "metadata": {
      "needs_background": "light"
     },
     "output_type": "display_data"
    },
    {
     "data": {
      "image/png": "[encoded data removed]",
      "text/plain": [
       "<Figure size 432x288 with 1 Axes>"
      ]
     },
     "metadata": {
      "needs_background": "light"
     },
     "output_type": "display_data"
    },
    {
     "data": {
      "image/png": "[encoded data removed]",
      "text/plain": [
       "<Figure size 432x288 with 1 Axes>"
      ]
     },
     "metadata": {
      "needs_background": "light"
     },
     "output_type": "display_data"
    }
   ],
   "source": [
    "plot_hist(portfolio, ['id', 'channels'])"
   ]
  },
  {
   "cell_type": "markdown",
   "id": "embedded-cruise",
   "metadata": {},
   "source": [
    "### Remove email since the only value is 1"
   ]
  },
  {
   "cell_type": "code",
   "execution_count": 12,
   "id": "recognized-january",
   "metadata": {
    "ExecuteTime": {
     "end_time": "2021-03-04T01:40:19.775297Z",
     "start_time": "2021-03-04T01:40:19.770430Z"
    }
   },
   "outputs": [],
   "source": [
    "portfolio.drop(columns=['email'], inplace=True)"
   ]
  },
  {
   "cell_type": "markdown",
   "id": "graphic-world",
   "metadata": {},
   "source": [
    "## Profile"
   ]
  },
  {
   "cell_type": "code",
   "execution_count": 13,
   "id": "grave-series",
   "metadata": {
    "ExecuteTime": {
     "end_time": "2021-03-04T01:40:19.804736Z",
     "start_time": "2021-03-04T01:40:19.779057Z"
    }
   },
   "outputs": [],
   "source": [
    "profile['became_member_on'] = pd.to_datetime(profile['became_member_on'], format='%Y%m%d')"
   ]
  },
  {
   "cell_type": "code",
   "execution_count": 14,
   "id": "vital-danish",
   "metadata": {
    "ExecuteTime": {
     "end_time": "2021-03-04T01:40:20.371099Z",
     "start_time": "2021-03-04T01:40:19.806961Z"
    },
    "scrolled": true
   },
   "outputs": [
    {
     "data": {
      "image/png": "[encoded data removed]",
      "text/plain": [
       "<Figure size 432x288 with 1 Axes>"
      ]
     },
     "metadata": {
      "needs_background": "light"
     },
     "output_type": "display_data"
    },
    {
     "data": {
      "image/png": "[encoded data removed]",
      "text/plain": [
       "<Figure size 432x288 with 1 Axes>"
      ]
     },
     "metadata": {
      "needs_background": "light"
     },
     "output_type": "display_data"
    },
    {
     "data": {
      "image/png": "[encoded data removed]",
      "text/plain": [
       "<Figure size 432x288 with 1 Axes>"
      ]
     },
     "metadata": {
      "needs_background": "light"
     },
     "output_type": "display_data"
    },
    {
     "data": {
      "image/png": "[encoded data removed]",
      "text/plain": [
       "<Figure size 432x288 with 1 Axes>"
      ]
     },
     "metadata": {
      "needs_background": "light"
     },
     "output_type": "display_data"
    }
   ],
   "source": [
    "plot_hist(profile, ['id'])"
   ]
  },
  {
   "cell_type": "markdown",
   "id": "mathematical-technique",
   "metadata": {},
   "source": [
    "### Turn gender == 'o' to Unknown"
   ]
  },
  {
   "cell_type": "code",
   "execution_count": 15,
   "id": "designed-patrol",
   "metadata": {
    "ExecuteTime": {
     "end_time": "2021-03-04T01:40:20.382145Z",
     "start_time": "2021-03-04T01:40:20.372893Z"
    },
    "scrolled": true
   },
   "outputs": [],
   "source": [
    "profile.loc[profile['gender'] == 'O', 'gender'] = None"
   ]
  },
  {
   "cell_type": "markdown",
   "id": "empirical-agreement",
   "metadata": {},
   "source": [
    "### Turn age > 100 to Unknown"
   ]
  },
  {
   "cell_type": "code",
   "execution_count": 16,
   "id": "subsequent-creature",
   "metadata": {
    "ExecuteTime": {
     "end_time": "2021-03-04T01:40:20.391090Z",
     "start_time": "2021-03-04T01:40:20.383784Z"
    }
   },
   "outputs": [],
   "source": [
    "profile.loc[profile['age'] > 100, 'age'] = None"
   ]
  },
  {
   "cell_type": "markdown",
   "id": "coupled-authorization",
   "metadata": {},
   "source": [
    "#### Re-plot gender and age"
   ]
  },
  {
   "cell_type": "code",
   "execution_count": 17,
   "id": "prepared-college",
   "metadata": {
    "ExecuteTime": {
     "end_time": "2021-03-04T01:40:20.530426Z",
     "start_time": "2021-03-04T01:40:20.392908Z"
    }
   },
   "outputs": [
    {
     "data": {
      "image/png": "[encoded data removed]",
      "text/plain": [
       "<Figure size 432x288 with 1 Axes>"
      ]
     },
     "metadata": {
      "needs_background": "light"
     },
     "output_type": "display_data"
    }
   ],
   "source": [
    "counts = profile.groupby('gender').size()\n",
    "plt.bar(list(counts.index), list(counts.values));"
   ]
  },
  {
   "cell_type": "code",
   "execution_count": 18,
   "id": "functional-editor",
   "metadata": {
    "ExecuteTime": {
     "end_time": "2021-03-04T01:40:20.665810Z",
     "start_time": "2021-03-04T01:40:20.532274Z"
    }
   },
   "outputs": [
    {
     "data": {
      "image/png": "[encoded data removed]",
      "text/plain": [
       "<Figure size 432x288 with 1 Axes>"
      ]
     },
     "metadata": {
      "needs_background": "light"
     },
     "output_type": "display_data"
    }
   ],
   "source": [
    "plt.hist(profile['age']);"
   ]
  },
  {
   "cell_type": "markdown",
   "id": "optional-morrison",
   "metadata": {},
   "source": [
    "## Transcript"
   ]
  },
  {
   "cell_type": "markdown",
   "id": "secure-assets",
   "metadata": {},
   "source": [
    "### Add 'offer id' and 'amount' columns to the dataframe"
   ]
  },
  {
   "cell_type": "code",
   "execution_count": 19,
   "id": "worth-secretariat",
   "metadata": {
    "ExecuteTime": {
     "end_time": "2021-03-04T01:40:20.959908Z",
     "start_time": "2021-03-04T01:40:20.667627Z"
    },
    "scrolled": true
   },
   "outputs": [],
   "source": [
    "col = ['offer id', 'amount']\n",
    "\n",
    "for c in col:\n",
    "    col_lst = []\n",
    "    for v in transcript['value']:\n",
    "        try:\n",
    "            col_lst.append(v[c])\n",
    "        except:\n",
    "            col_lst.append(None)\n",
    "    transcript[c] = col_lst"
   ]
  },
  {
   "cell_type": "code",
   "execution_count": 20,
   "id": "architectural-friend",
   "metadata": {
    "ExecuteTime": {
     "end_time": "2021-03-04T01:40:21.045551Z",
     "start_time": "2021-03-04T01:40:20.961458Z"
    }
   },
   "outputs": [],
   "source": [
    "transcript.drop(columns=['value'], inplace=True)"
   ]
  },
  {
   "cell_type": "code",
   "execution_count": 21,
   "id": "general-breakdown",
   "metadata": {
    "ExecuteTime": {
     "end_time": "2021-03-04T01:40:21.652417Z",
     "start_time": "2021-03-04T01:40:21.048306Z"
    },
    "scrolled": true
   },
   "outputs": [
    {
     "data": {
      "image/png": "[encoded data removed]",
      "text/plain": [
       "<Figure size 432x288 with 1 Axes>"
      ]
     },
     "metadata": {
      "needs_background": "light"
     },
     "output_type": "display_data"
    },
    {
     "data": {
      "image/png": "[encoded data removed]",
      "text/plain": [
       "<Figure size 432x288 with 1 Axes>"
      ]
     },
     "metadata": {
      "needs_background": "light"
     },
     "output_type": "display_data"
    },
    {
     "data": {
      "image/png": "[encoded data removed]",
      "text/plain": [
       "<Figure size 432x288 with 1 Axes>"
      ]
     },
     "metadata": {
      "needs_background": "light"
     },
     "output_type": "display_data"
    },
    {
     "data": {
      "image/png": "[encoded data removed]",
      "text/plain": [
       "<Figure size 432x288 with 1 Axes>"
      ]
     },
     "metadata": {
      "needs_background": "light"
     },
     "output_type": "display_data"
    }
   ],
   "source": [
    "plot_hist(transcript, ['person'])"
   ]
  },
  {
   "cell_type": "markdown",
   "id": "large-citation",
   "metadata": {},
   "source": [
    "### Turn amount > 50 to Unknown\n",
    "amount distribution is extremely skewed; most of the amount is within 50"
   ]
  },
  {
   "cell_type": "code",
   "execution_count": 22,
   "id": "incorrect-coordinator",
   "metadata": {
    "ExecuteTime": {
     "end_time": "2021-03-04T01:40:21.673724Z",
     "start_time": "2021-03-04T01:40:21.653923Z"
    }
   },
   "outputs": [
    {
     "name": "stdout",
     "output_type": "stream",
     "text": [
      "138247 of transactions have amount < 50\n",
      "706 of transactions have amount >= 50\n"
     ]
    }
   ],
   "source": [
    "# amount distribution is extremely skewed; most of the amount is within 50\n",
    "print('{} of transactions have amount < 50'\\\n",
    "      .format(len(list(transcript['amount'][transcript['amount'] < 50]))))\n",
    "print('{} of transactions have amount >= 50'\\\n",
    "      .format(len(list(transcript['amount'][transcript['amount'] >= 50]))))"
   ]
  },
  {
   "cell_type": "code",
   "execution_count": 23,
   "id": "useful-namibia",
   "metadata": {
    "ExecuteTime": {
     "end_time": "2021-03-04T01:40:21.680333Z",
     "start_time": "2021-03-04T01:40:21.675700Z"
    },
    "scrolled": true
   },
   "outputs": [],
   "source": [
    "transcript.loc[transcript['amount'] > 50, 'amount'] = None"
   ]
  },
  {
   "cell_type": "markdown",
   "id": "outdoor-request",
   "metadata": {},
   "source": [
    "#### Re-plot amount"
   ]
  },
  {
   "cell_type": "code",
   "execution_count": 24,
   "id": "subtle-continuity",
   "metadata": {
    "ExecuteTime": {
     "end_time": "2021-03-04T01:40:21.805392Z",
     "start_time": "2021-03-04T01:40:21.681581Z"
    }
   },
   "outputs": [
    {
     "data": {
      "image/png": "[encoded data removed]",
      "text/plain": [
       "<Figure size 432x288 with 1 Axes>"
      ]
     },
     "metadata": {
      "needs_background": "light"
     },
     "output_type": "display_data"
    }
   ],
   "source": [
    "plt.hist(transcript['amount']);"
   ]
  },
  {
   "cell_type": "code",
   "execution_count": 25,
   "id": "verbal-replica",
   "metadata": {
    "ExecuteTime": {
     "end_time": "2021-03-04T01:40:21.832126Z",
     "start_time": "2021-03-04T01:40:21.808544Z"
    }
   },
   "outputs": [],
   "source": [
    "transcript = transcript.rename(columns={'offer id':'offer_id'})"
   ]
  },
  {
   "cell_type": "markdown",
   "id": "happy-times",
   "metadata": {},
   "source": [
    "## Save to csv files"
   ]
  },
  {
   "cell_type": "code",
   "execution_count": 26,
   "id": "modified-calcium",
   "metadata": {
    "ExecuteTime": {
     "end_time": "2021-03-04T01:40:22.996800Z",
     "start_time": "2021-03-04T01:40:21.833751Z"
    }
   },
   "outputs": [],
   "source": [
    "portfolio.to_csv('data/portfolio_clean.csv')\n",
    "profile.to_csv('data/profile_clean.csv')\n",
    "transcript.to_csv('data/transcript_clean.csv')"
   ]
  },
  {
   "cell_type": "code",
   "execution_count": null,
   "id": "drawn-steel",
   "metadata": {
    "ExecuteTime": {
     "end_time": "2021-03-01T07:58:23.548129Z",
     "start_time": "2021-03-01T07:58:23.398136Z"
    }
   },
   "outputs": [],
   "source": []
  }
 ],
 "metadata": {
  "kernelspec": {
   "display_name": "Python 3",
   "language": "python",
   "name": "python3"
  },
  "language_info": {
   "codemirror_mode": {
    "name": "ipython",
    "version": 3
   },
   "file_extension": ".py",
   "mimetype": "text/x-python",
   "name": "python",
   "nbconvert_exporter": "python",
   "pygments_lexer": "ipython3",
   "version": "3.6.12"
  }
 },
 "nbformat": 4,
 "nbformat_minor": 5
}
