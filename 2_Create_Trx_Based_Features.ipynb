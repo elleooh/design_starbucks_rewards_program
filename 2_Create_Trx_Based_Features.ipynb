{
 "cells": [
  {
   "cell_type": "code",
   "execution_count": 1,
   "id": "floral-ability",
   "metadata": {
    "ExecuteTime": {
     "end_time": "2021-03-05T08:59:28.013917Z",
     "start_time": "2021-03-05T08:59:27.586134Z"
    }
   },
   "outputs": [],
   "source": [
    "import pandas as pd\n",
    "import numpy as np\n",
    "import sqlite3"
   ]
  },
  {
   "cell_type": "code",
   "execution_count": 2,
   "id": "appropriate-findings",
   "metadata": {
    "ExecuteTime": {
     "end_time": "2021-03-05T08:59:28.358223Z",
     "start_time": "2021-03-05T08:59:28.015602Z"
    }
   },
   "outputs": [],
   "source": [
    "# read in the csv files\n",
    "portfolio = pd.read_csv('data/portfolio_clean.csv')\n",
    "profile = pd.read_csv('data/profile_clean.csv')\n",
    "transcript = pd.read_csv('data/transcript_clean.csv')\n",
    "\n",
    "del portfolio['Unnamed: 0']\n",
    "del profile['Unnamed: 0']\n",
    "del transcript['Unnamed: 0']"
   ]
  },
  {
   "cell_type": "code",
   "execution_count": 3,
   "id": "starting-current",
   "metadata": {
    "ExecuteTime": {
     "end_time": "2021-03-05T08:59:28.365052Z",
     "start_time": "2021-03-05T08:59:28.361319Z"
    }
   },
   "outputs": [],
   "source": [
    "sql_connect = sqlite3.connect('starbucks.db')\n",
    "cursor = sql_connect.cursor()"
   ]
  },
  {
   "cell_type": "markdown",
   "id": "operational-productivity",
   "metadata": {},
   "source": [
    "## Save to tables in database"
   ]
  },
  {
   "cell_type": "code",
   "execution_count": 4,
   "id": "accredited-extent",
   "metadata": {
    "ExecuteTime": {
     "end_time": "2021-03-05T08:59:28.375292Z",
     "start_time": "2021-03-05T08:59:28.367305Z"
    }
   },
   "outputs": [],
   "source": [
    "portfolio = portfolio.set_index('id')\n",
    "profile = profile.set_index('id')"
   ]
  },
  {
   "cell_type": "code",
   "execution_count": 5,
   "id": "liberal-absorption",
   "metadata": {
    "ExecuteTime": {
     "end_time": "2021-03-05T08:59:30.306897Z",
     "start_time": "2021-03-05T08:59:28.377406Z"
    }
   },
   "outputs": [],
   "source": [
    "portfolio.to_sql('portfolio', sql_connect, if_exists='replace')\n",
    "profile.to_sql('profile', sql_connect, if_exists='replace')\n",
    "transcript.to_sql('transcript', sql_connect, if_exists='replace')"
   ]
  },
  {
   "cell_type": "markdown",
   "id": "existing-accuracy",
   "metadata": {
    "ExecuteTime": {
     "end_time": "2021-03-01T07:07:20.114257Z",
     "start_time": "2021-03-01T07:07:20.105208Z"
    }
   },
   "source": [
    "## Create target label\n",
    "If offer was received and viewed, label = 1; otherwise 0"
   ]
  },
  {
   "cell_type": "code",
   "execution_count": 6,
   "id": "federal-cooper",
   "metadata": {
    "ExecuteTime": {
     "end_time": "2021-03-05T08:59:30.312321Z",
     "start_time": "2021-03-05T08:59:30.308752Z"
    }
   },
   "outputs": [],
   "source": [
    "query = \"\"\"\n",
    "SELECT DISTINCT a.person, a.offer_id, a.time as received_time, b.time as viewed_time\n",
    ", CASE WHEN b.person IS NULL THEN 0 ELSE 1 END as label\n",
    "FROM (SELECT person, offer_id, time \n",
    "FROM transcript\n",
    "WHERE event = 'offer received') a\n",
    "LEFT JOIN (SELECT person, offer_id, time\n",
    "FROM transcript\n",
    "WHERE event = 'offer viewed') b\n",
    "    ON a.person = b.person\n",
    "    AND a.offer_id = b.offer_id\n",
    "    AND a.time <= b.time\n",
    "\"\"\""
   ]
  },
  {
   "cell_type": "code",
   "execution_count": 7,
   "id": "traditional-variety",
   "metadata": {
    "ExecuteTime": {
     "end_time": "2021-03-05T08:59:31.970265Z",
     "start_time": "2021-03-05T08:59:30.314454Z"
    }
   },
   "outputs": [],
   "source": [
    "pd.read_sql_query(query,sql_connect).to_sql('transcript_rec_view', sql_connect, if_exists='replace')"
   ]
  },
  {
   "cell_type": "markdown",
   "id": "completed-tobacco",
   "metadata": {},
   "source": [
    "For customers receiving and viewing the same offers, use the min view time as the only view time for that offer"
   ]
  },
  {
   "cell_type": "code",
   "execution_count": 8,
   "id": "genetic-serum",
   "metadata": {
    "ExecuteTime": {
     "end_time": "2021-03-05T08:59:31.984042Z",
     "start_time": "2021-03-05T08:59:31.979523Z"
    }
   },
   "outputs": [],
   "source": [
    "query = \"\"\"\n",
    "SELECT a.person, a.offer_id, a.received_time, a.viewed_time-a.received_time as duration_view, label\n",
    "FROM (SELECT person, offer_id, received_time, min(viewed_time) as viewed_time, max(label) as label\n",
    "FROM transcript_rec_view\n",
    "GROUP BY person, offer_id, received_time) a\n",
    "\"\"\""
   ]
  },
  {
   "cell_type": "code",
   "execution_count": 9,
   "id": "registered-square",
   "metadata": {
    "ExecuteTime": {
     "end_time": "2021-03-05T08:59:32.685505Z",
     "start_time": "2021-03-05T08:59:31.988783Z"
    }
   },
   "outputs": [],
   "source": [
    "transcript_final = pd.read_sql_query(query,sql_connect)\n",
    "transcript_final.to_sql('transcript_final', sql_connect, if_exists='replace')"
   ]
  },
  {
   "cell_type": "code",
   "execution_count": 10,
   "id": "special-airfare",
   "metadata": {
    "ExecuteTime": {
     "end_time": "2021-03-05T08:59:32.741119Z",
     "start_time": "2021-03-05T08:59:32.688870Z"
    }
   },
   "outputs": [],
   "source": [
    "assert sum(transcript['event'] == 'offer received') == transcript_final.shape[0]\\\n",
    ", \"Incorrect dimension - the number of 'offer received' in original transcript should equal to transcript_final\""
   ]
  },
  {
   "cell_type": "markdown",
   "id": "secure-somewhere",
   "metadata": {
    "ExecuteTime": {
     "end_time": "2021-03-01T06:55:20.485083Z",
     "start_time": "2021-03-01T06:55:20.375952Z"
    }
   },
   "source": [
    "## Create additional offer and customer features based on transcript"
   ]
  },
  {
   "cell_type": "markdown",
   "id": "aboriginal-motivation",
   "metadata": {},
   "source": [
    "### Split into training and testing dataset"
   ]
  },
  {
   "cell_type": "code",
   "execution_count": 11,
   "id": "unlike-process",
   "metadata": {
    "ExecuteTime": {
     "end_time": "2021-03-05T08:59:32.863122Z",
     "start_time": "2021-03-05T08:59:32.743644Z"
    }
   },
   "outputs": [],
   "source": [
    "# To prevent data leakage when creating features based on transcript\n",
    "# if the time is smaller than a threshold, make it training data and larger than a threshold as testing data\n",
    "# training : testing should roughly be 3:1\n",
    "\n",
    "transcript_quantile = transcript_final.groupby('person')['received_time'].quantile(0.75).reset_index()\n",
    "transcript_quantile.to_sql('transcript_quantile', sql_connect, if_exists='replace')"
   ]
  },
  {
   "cell_type": "code",
   "execution_count": 12,
   "id": "chubby-repeat",
   "metadata": {
    "ExecuteTime": {
     "end_time": "2021-03-05T08:59:32.867885Z",
     "start_time": "2021-03-05T08:59:32.864722Z"
    }
   },
   "outputs": [],
   "source": [
    "query = \"\"\"\n",
    "SELECT a.*, CASE WHEN a.received_time <= b.received_time THEN 1 ELSE 0 END as training_label\n",
    "FROM transcript_final a\n",
    "LEFT JOIN transcript_quantile b\n",
    "        ON a.person = b.person    \n",
    "\"\"\""
   ]
  },
  {
   "cell_type": "code",
   "execution_count": 13,
   "id": "worse-gambling",
   "metadata": {
    "ExecuteTime": {
     "end_time": "2021-03-05T08:59:33.207769Z",
     "start_time": "2021-03-05T08:59:32.870291Z"
    }
   },
   "outputs": [],
   "source": [
    "assert pd.read_sql_query(query,sql_connect).shape[0]==transcript_final.shape[0] \\\n",
    ", \"Wrong data dimension after joining with quantile\""
   ]
  },
  {
   "cell_type": "code",
   "execution_count": 14,
   "id": "still-tuning",
   "metadata": {
    "ExecuteTime": {
     "end_time": "2021-03-05T08:59:34.025006Z",
     "start_time": "2021-03-05T08:59:33.210172Z"
    }
   },
   "outputs": [],
   "source": [
    "transcript_final = pd.read_sql_query(query,sql_connect)\n",
    "transcript_final.to_sql('transcript_final', sql_connect, if_exists='replace')"
   ]
  },
  {
   "cell_type": "code",
   "execution_count": 15,
   "id": "marked-deficit",
   "metadata": {
    "ExecuteTime": {
     "end_time": "2021-03-05T08:59:34.032836Z",
     "start_time": "2021-03-05T08:59:34.027286Z"
    }
   },
   "outputs": [],
   "source": [
    "assert transcript_final['training_label'].sum()/ transcript_final.shape[0] > 0.7 \\\n",
    ", \"Training data accounts for less than 70% of the total data\""
   ]
  },
  {
   "cell_type": "code",
   "execution_count": 16,
   "id": "usual-cliff",
   "metadata": {
    "ExecuteTime": {
     "end_time": "2021-03-05T08:59:34.049969Z",
     "start_time": "2021-03-05T08:59:34.035882Z"
    }
   },
   "outputs": [],
   "source": [
    "transcript_training = transcript_final[transcript_final['training_label']==1]"
   ]
  },
  {
   "cell_type": "code",
   "execution_count": 17,
   "id": "prescription-portugal",
   "metadata": {
    "ExecuteTime": {
     "end_time": "2021-03-05T08:59:34.061734Z",
     "start_time": "2021-03-05T08:59:34.052903Z"
    }
   },
   "outputs": [],
   "source": [
    "transcript_testing = transcript_final[transcript_final['training_label']==0]"
   ]
  },
  {
   "cell_type": "code",
   "execution_count": 18,
   "id": "virtual-lottery",
   "metadata": {
    "ExecuteTime": {
     "end_time": "2021-03-05T08:59:34.093937Z",
     "start_time": "2021-03-05T08:59:34.064198Z"
    }
   },
   "outputs": [],
   "source": [
    "assert len(transcript_training['person'].unique()) >= len(transcript_testing['person'].unique()) \\\n",
    ", \"Training data include fewer customer than in the testin data\""
   ]
  },
  {
   "cell_type": "code",
   "execution_count": 19,
   "id": "fixed-gnome",
   "metadata": {
    "ExecuteTime": {
     "end_time": "2021-03-05T08:59:34.867400Z",
     "start_time": "2021-03-05T08:59:34.096621Z"
    }
   },
   "outputs": [],
   "source": [
    "transcript_training.to_sql('transcript_training', sql_connect, if_exists='replace')\n",
    "transcript_testing.to_sql('transcript_testing', sql_connect, if_exists='replace')"
   ]
  },
  {
   "cell_type": "markdown",
   "id": "great-implement",
   "metadata": {},
   "source": [
    "### Create offer features (only use transcript_training)"
   ]
  },
  {
   "cell_type": "code",
   "execution_count": 20,
   "id": "usual-advertising",
   "metadata": {
    "ExecuteTime": {
     "end_time": "2021-03-05T08:59:34.879019Z",
     "start_time": "2021-03-05T08:59:34.869665Z"
    }
   },
   "outputs": [],
   "source": [
    "def create_features_using_groupby(df, entity_col, feature, avg=True, min=True, max=True):\n",
    "    groupby = transcript_training.groupby(entity_col)[feature]\n",
    "    \n",
    "    features, col_name = [], []\n",
    "    if avg:\n",
    "        features.append(groupby.mean())\n",
    "        col_name.append('avg_'+feature)\n",
    "    if min:\n",
    "        features.append(groupby.min())\n",
    "        col_name.append('min_'+feature)\n",
    "    if max:\n",
    "        features.append(groupby.max())\n",
    "        col_name.append('max_'+feature)\n",
    "        \n",
    "    feature_df = pd.concat(features, axis=1)\n",
    "    feature_df.columns = col_name\n",
    "    \n",
    "    return feature_df"
   ]
  },
  {
   "cell_type": "code",
   "execution_count": 21,
   "id": "affiliated-problem",
   "metadata": {
    "ExecuteTime": {
     "end_time": "2021-03-05T08:59:34.926373Z",
     "start_time": "2021-03-05T08:59:34.882338Z"
    }
   },
   "outputs": [],
   "source": [
    "portfolio_duration = create_features_using_groupby(transcript_testing, 'offer_id', 'duration_view')"
   ]
  },
  {
   "cell_type": "code",
   "execution_count": 22,
   "id": "elect-hierarchy",
   "metadata": {
    "ExecuteTime": {
     "end_time": "2021-03-05T08:59:34.955467Z",
     "start_time": "2021-03-05T08:59:34.928752Z"
    }
   },
   "outputs": [],
   "source": [
    "portfolio_view_rate = create_features_using_groupby(transcript_testing, 'offer_id', 'label', min=False, max=False)\n",
    "portfolio_view_rate.columns=['view_rate']"
   ]
  },
  {
   "cell_type": "code",
   "execution_count": 23,
   "id": "liquid-rendering",
   "metadata": {
    "ExecuteTime": {
     "end_time": "2021-03-05T08:59:34.964800Z",
     "start_time": "2021-03-05T08:59:34.960798Z"
    }
   },
   "outputs": [],
   "source": [
    "portfolio_feat = pd.concat([portfolio_view_rate, portfolio_duration], axis=1)"
   ]
  },
  {
   "cell_type": "markdown",
   "id": "super-malaysia",
   "metadata": {},
   "source": [
    "#### check dimension match"
   ]
  },
  {
   "cell_type": "code",
   "execution_count": 24,
   "id": "consistent-victor",
   "metadata": {
    "ExecuteTime": {
     "end_time": "2021-03-05T08:59:34.974694Z",
     "start_time": "2021-03-05T08:59:34.967826Z"
    }
   },
   "outputs": [],
   "source": [
    "assert portfolio_feat.shape[0] == portfolio.shape[0], \"rows do not match with original data (portfolio)\""
   ]
  },
  {
   "cell_type": "code",
   "execution_count": 25,
   "id": "flying-ground",
   "metadata": {
    "ExecuteTime": {
     "end_time": "2021-03-05T08:59:34.992402Z",
     "start_time": "2021-03-05T08:59:34.976809Z"
    },
    "scrolled": true
   },
   "outputs": [],
   "source": [
    "portfolio = portfolio.join(portfolio_feat)"
   ]
  },
  {
   "cell_type": "markdown",
   "id": "super-wyoming",
   "metadata": {},
   "source": [
    "#### save to database"
   ]
  },
  {
   "cell_type": "code",
   "execution_count": 26,
   "id": "honey-equation",
   "metadata": {
    "ExecuteTime": {
     "end_time": "2021-03-05T08:59:35.043467Z",
     "start_time": "2021-03-05T08:59:34.994484Z"
    }
   },
   "outputs": [],
   "source": [
    "portfolio.to_sql('portfolio', sql_connect, if_exists='replace')"
   ]
  },
  {
   "cell_type": "markdown",
   "id": "particular-junction",
   "metadata": {},
   "source": [
    "### Create customer features (only use transcript_training)"
   ]
  },
  {
   "cell_type": "code",
   "execution_count": 27,
   "id": "peaceful-playlist",
   "metadata": {
    "ExecuteTime": {
     "end_time": "2021-03-05T08:59:35.060158Z",
     "start_time": "2021-03-05T08:59:35.050293Z"
    }
   },
   "outputs": [],
   "source": [
    "query = \"\"\"\n",
    "SELECT a.person, min(amount) as min_amount, max(amount) as max_amount, avg(amount) as avg_amount\n",
    "FROM transcript a\n",
    "    JOIN transcript_quantile b\n",
    "        ON a.person = b.person  \n",
    "WHERE a.time <= b.received_time\n",
    "GROUP BY a.person\n",
    "\"\"\""
   ]
  },
  {
   "cell_type": "code",
   "execution_count": 28,
   "id": "framed-diploma",
   "metadata": {
    "ExecuteTime": {
     "end_time": "2021-03-05T08:59:35.651732Z",
     "start_time": "2021-03-05T08:59:35.068928Z"
    },
    "scrolled": true
   },
   "outputs": [],
   "source": [
    "profile_amount = pd.read_sql_query(query,sql_connect).set_index('person')"
   ]
  },
  {
   "cell_type": "code",
   "execution_count": 29,
   "id": "oriented-honduras",
   "metadata": {
    "ExecuteTime": {
     "end_time": "2021-03-05T08:59:35.695471Z",
     "start_time": "2021-03-05T08:59:35.653161Z"
    }
   },
   "outputs": [],
   "source": [
    "profile_duration = create_features_using_groupby(transcript_testing, 'person', 'duration_view')"
   ]
  },
  {
   "cell_type": "code",
   "execution_count": 30,
   "id": "computational-bridge",
   "metadata": {
    "ExecuteTime": {
     "end_time": "2021-03-05T08:59:35.734736Z",
     "start_time": "2021-03-05T08:59:35.697171Z"
    }
   },
   "outputs": [],
   "source": [
    "profile_view_rate = create_features_using_groupby(transcript_testing, 'person', 'label', min=False, max=False)\n",
    "profile_view_rate.columns=['view_rate']"
   ]
  },
  {
   "cell_type": "code",
   "execution_count": 31,
   "id": "spectacular-monte",
   "metadata": {
    "ExecuteTime": {
     "end_time": "2021-03-05T08:59:35.888373Z",
     "start_time": "2021-03-05T08:59:35.736337Z"
    }
   },
   "outputs": [],
   "source": [
    "profile_trx_rate = (transcript_training.groupby('person').size()*100/(transcript_training.groupby('person')['received_time'].max() - transcript_training.groupby('person')['received_time'].min())).reset_index()\n",
    "profile_trx_rate.columns = ['person', 'avg_trx_cnt']\n",
    "profile_trx_rate.loc[profile_trx_rate['avg_trx_cnt']==np.inf, 'avg_trx_cnt'] = 1\n",
    "profile_trx_rate = profile_trx_rate.set_index('person')"
   ]
  },
  {
   "cell_type": "code",
   "execution_count": 32,
   "id": "faced-nebraska",
   "metadata": {
    "ExecuteTime": {
     "end_time": "2021-03-05T08:59:35.921513Z",
     "start_time": "2021-03-05T08:59:35.890067Z"
    }
   },
   "outputs": [],
   "source": [
    "profile_feat = profile_amount.join(profile_duration).join(profile_view_rate).join(profile_trx_rate)"
   ]
  },
  {
   "cell_type": "markdown",
   "id": "molecular-joining",
   "metadata": {},
   "source": [
    "#### check dimension match"
   ]
  },
  {
   "cell_type": "code",
   "execution_count": 33,
   "id": "parliamentary-drive",
   "metadata": {
    "ExecuteTime": {
     "end_time": "2021-03-05T08:59:35.940231Z",
     "start_time": "2021-03-05T08:59:35.923956Z"
    }
   },
   "outputs": [],
   "source": [
    "assert pd.merge(profile, profile_feat, how='left', left_index=True, right_index=True).shape[0] == profile.shape[0], \"rows do not match with original data (profile)\""
   ]
  },
  {
   "cell_type": "code",
   "execution_count": 34,
   "id": "increasing-telephone",
   "metadata": {
    "ExecuteTime": {
     "end_time": "2021-03-05T08:59:35.953462Z",
     "start_time": "2021-03-05T08:59:35.942894Z"
    }
   },
   "outputs": [],
   "source": [
    "profile = pd.merge(profile, profile_feat, how='left', left_index=True, right_index=True)"
   ]
  },
  {
   "cell_type": "markdown",
   "id": "sunset-removal",
   "metadata": {},
   "source": [
    "#### save to database"
   ]
  },
  {
   "cell_type": "code",
   "execution_count": 35,
   "id": "chinese-undergraduate",
   "metadata": {
    "ExecuteTime": {
     "end_time": "2021-03-05T08:59:36.198545Z",
     "start_time": "2021-03-05T08:59:35.955027Z"
    }
   },
   "outputs": [],
   "source": [
    "profile.to_sql('profile', sql_connect, if_exists='replace')"
   ]
  },
  {
   "cell_type": "code",
   "execution_count": 36,
   "id": "static-personality",
   "metadata": {
    "ExecuteTime": {
     "end_time": "2021-03-05T08:59:38.950985Z",
     "start_time": "2021-03-05T08:59:38.942860Z"
    }
   },
   "outputs": [],
   "source": [
    "cursor.close()"
   ]
  },
  {
   "cell_type": "code",
   "execution_count": null,
   "id": "selected-competition",
   "metadata": {},
   "outputs": [],
   "source": []
  }
 ],
 "metadata": {
  "kernelspec": {
   "display_name": "Python 3",
   "language": "python",
   "name": "python3"
  },
  "language_info": {
   "codemirror_mode": {
    "name": "ipython",
    "version": 3
   },
   "file_extension": ".py",
   "mimetype": "text/x-python",
   "name": "python",
   "nbconvert_exporter": "python",
   "pygments_lexer": "ipython3",
   "version": "3.6.12"
  }
 },
 "nbformat": 4,
 "nbformat_minor": 5
}
