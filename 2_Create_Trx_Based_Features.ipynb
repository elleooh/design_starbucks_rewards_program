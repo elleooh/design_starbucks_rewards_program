{
 "cells": [
  {
   "cell_type": "code",
   "execution_count": 1,
   "id": "floral-ability",
   "metadata": {
    "ExecuteTime": {
     "end_time": "2021-04-04T07:33:44.584270Z",
     "start_time": "2021-04-04T07:33:43.914861Z"
    }
   },
   "outputs": [],
   "source": [
    "import pandas as pd\n",
    "import numpy as np\n",
    "import sqlite3\n",
    "import matplotlib.pyplot as plt"
   ]
  },
  {
   "cell_type": "code",
   "execution_count": 2,
   "id": "appropriate-findings",
   "metadata": {
    "ExecuteTime": {
     "end_time": "2021-04-04T07:33:44.963263Z",
     "start_time": "2021-04-04T07:33:44.585892Z"
    }
   },
   "outputs": [],
   "source": [
    "# read in the csv files\n",
    "portfolio = pd.read_csv('data/portfolio_clean.csv')\n",
    "profile = pd.read_csv('data/profile_clean.csv')\n",
    "transcript = pd.read_csv('data/transcript_clean.csv')\n",
    "\n",
    "del portfolio['Unnamed: 0']\n",
    "del profile['Unnamed: 0']\n",
    "del transcript['Unnamed: 0']"
   ]
  },
  {
   "cell_type": "code",
   "execution_count": 3,
   "id": "starting-current",
   "metadata": {
    "ExecuteTime": {
     "end_time": "2021-04-04T07:33:44.968871Z",
     "start_time": "2021-04-04T07:33:44.965320Z"
    }
   },
   "outputs": [],
   "source": [
    "sql_connect = sqlite3.connect('starbucks.db')\n",
    "cursor = sql_connect.cursor()"
   ]
  },
  {
   "cell_type": "markdown",
   "id": "operational-productivity",
   "metadata": {},
   "source": [
    "## Save to tables in database"
   ]
  },
  {
   "cell_type": "code",
   "execution_count": 4,
   "id": "accredited-extent",
   "metadata": {
    "ExecuteTime": {
     "end_time": "2021-04-04T07:33:44.978053Z",
     "start_time": "2021-04-04T07:33:44.971153Z"
    }
   },
   "outputs": [],
   "source": [
    "portfolio = portfolio.set_index('id')\n",
    "profile = profile.set_index('id')"
   ]
  },
  {
   "cell_type": "code",
   "execution_count": 5,
   "id": "liberal-absorption",
   "metadata": {
    "ExecuteTime": {
     "end_time": "2021-04-04T07:33:47.084809Z",
     "start_time": "2021-04-04T07:33:44.980057Z"
    }
   },
   "outputs": [],
   "source": [
    "portfolio.to_sql('portfolio', sql_connect, if_exists='replace')\n",
    "profile.to_sql('profile', sql_connect, if_exists='replace')\n",
    "transcript.to_sql('transcript', sql_connect, if_exists='replace')"
   ]
  },
  {
   "cell_type": "markdown",
   "id": "existing-accuracy",
   "metadata": {
    "ExecuteTime": {
     "end_time": "2021-03-01T07:07:20.114257Z",
     "start_time": "2021-03-01T07:07:20.105208Z"
    }
   },
   "source": [
    "## Create target label\n",
    "If offer was received and viewed, label = 1; otherwise 0"
   ]
  },
  {
   "cell_type": "code",
   "execution_count": 6,
   "id": "federal-cooper",
   "metadata": {
    "ExecuteTime": {
     "end_time": "2021-04-04T07:33:47.094399Z",
     "start_time": "2021-04-04T07:33:47.089032Z"
    }
   },
   "outputs": [],
   "source": [
    "query = \"\"\"\n",
    "SELECT DISTINCT a.person, a.offer_id, a.time as received_time, b.time as viewed_time\n",
    ", CASE WHEN b.person IS NULL THEN 0 ELSE 1 END as label\n",
    "FROM (SELECT person, offer_id, time \n",
    "FROM transcript\n",
    "WHERE event = 'offer received') a\n",
    "LEFT JOIN (SELECT person, offer_id, time\n",
    "FROM transcript\n",
    "WHERE event = 'offer viewed') b\n",
    "    ON a.person = b.person\n",
    "    AND a.offer_id = b.offer_id\n",
    "    AND a.time <= b.time\n",
    "\"\"\""
   ]
  },
  {
   "cell_type": "code",
   "execution_count": 7,
   "id": "traditional-variety",
   "metadata": {
    "ExecuteTime": {
     "end_time": "2021-04-04T07:33:48.616354Z",
     "start_time": "2021-04-04T07:33:47.097271Z"
    }
   },
   "outputs": [],
   "source": [
    "pd.read_sql_query(query,sql_connect).to_sql('transcript_rec_view', sql_connect, if_exists='replace')"
   ]
  },
  {
   "cell_type": "markdown",
   "id": "completed-tobacco",
   "metadata": {},
   "source": [
    "For customers receiving and viewing the same offers, use the min view time as the only view time for that offer"
   ]
  },
  {
   "cell_type": "code",
   "execution_count": 8,
   "id": "genetic-serum",
   "metadata": {
    "ExecuteTime": {
     "end_time": "2021-04-04T07:33:48.624980Z",
     "start_time": "2021-04-04T07:33:48.621002Z"
    }
   },
   "outputs": [],
   "source": [
    "query = \"\"\"\n",
    "SELECT a.person, a.offer_id, a.received_time, a.viewed_time-a.received_time as duration_view, label\n",
    "FROM (SELECT person, offer_id, received_time, min(viewed_time) as viewed_time, max(label) as label\n",
    "FROM transcript_rec_view\n",
    "GROUP BY person, offer_id, received_time) a\n",
    "\"\"\""
   ]
  },
  {
   "cell_type": "code",
   "execution_count": 9,
   "id": "registered-square",
   "metadata": {
    "ExecuteTime": {
     "end_time": "2021-04-04T07:33:49.364571Z",
     "start_time": "2021-04-04T07:33:48.628668Z"
    }
   },
   "outputs": [],
   "source": [
    "transcript_final = pd.read_sql_query(query,sql_connect)\n",
    "transcript_final.to_sql('transcript_final', sql_connect, if_exists='replace')"
   ]
  },
  {
   "cell_type": "code",
   "execution_count": 10,
   "id": "special-airfare",
   "metadata": {
    "ExecuteTime": {
     "end_time": "2021-04-04T07:33:49.430603Z",
     "start_time": "2021-04-04T07:33:49.368601Z"
    }
   },
   "outputs": [],
   "source": [
    "assert sum(transcript['event'] == 'offer received') == transcript_final.shape[0]\\\n",
    ", \"Incorrect dimension - the number of 'offer received' in original transcript should equal to transcript_final\""
   ]
  },
  {
   "cell_type": "markdown",
   "id": "secure-somewhere",
   "metadata": {
    "ExecuteTime": {
     "end_time": "2021-03-01T06:55:20.485083Z",
     "start_time": "2021-03-01T06:55:20.375952Z"
    }
   },
   "source": [
    "## Create additional offer and customer features based on transcript"
   ]
  },
  {
   "cell_type": "markdown",
   "id": "aboriginal-motivation",
   "metadata": {},
   "source": [
    "### Split into training and testing dataset"
   ]
  },
  {
   "cell_type": "code",
   "execution_count": 11,
   "id": "unlike-process",
   "metadata": {
    "ExecuteTime": {
     "end_time": "2021-04-04T07:33:49.564799Z",
     "start_time": "2021-04-04T07:33:49.432306Z"
    }
   },
   "outputs": [],
   "source": [
    "# To prevent data leakage when creating features based on transcript\n",
    "# if the time is smaller than a threshold, make it training data and larger than a threshold as testing data\n",
    "# training : testing should roughly be 3:1\n",
    "\n",
    "transcript_quantile = transcript_final.groupby('person')['received_time'].quantile(0.75).reset_index()\n",
    "transcript_quantile.to_sql('transcript_quantile', sql_connect, if_exists='replace')"
   ]
  },
  {
   "cell_type": "code",
   "execution_count": 12,
   "id": "chubby-repeat",
   "metadata": {
    "ExecuteTime": {
     "end_time": "2021-04-04T07:33:49.569666Z",
     "start_time": "2021-04-04T07:33:49.566316Z"
    }
   },
   "outputs": [],
   "source": [
    "query = \"\"\"\n",
    "SELECT a.*, CASE WHEN a.received_time <= b.received_time THEN 1 ELSE 0 END as training_label\n",
    "FROM transcript_final a\n",
    "LEFT JOIN transcript_quantile b\n",
    "        ON a.person = b.person    \n",
    "\"\"\""
   ]
  },
  {
   "cell_type": "code",
   "execution_count": 13,
   "id": "worse-gambling",
   "metadata": {
    "ExecuteTime": {
     "end_time": "2021-04-04T07:33:49.896288Z",
     "start_time": "2021-04-04T07:33:49.572119Z"
    }
   },
   "outputs": [],
   "source": [
    "assert pd.read_sql_query(query,sql_connect).shape[0]==transcript_final.shape[0] \\\n",
    ", \"Wrong data dimension after joining with quantile\""
   ]
  },
  {
   "cell_type": "code",
   "execution_count": 14,
   "id": "still-tuning",
   "metadata": {
    "ExecuteTime": {
     "end_time": "2021-04-04T07:33:50.833877Z",
     "start_time": "2021-04-04T07:33:49.898087Z"
    }
   },
   "outputs": [],
   "source": [
    "transcript_final = pd.read_sql_query(query,sql_connect)\n",
    "transcript_final.to_sql('transcript_final', sql_connect, if_exists='replace')"
   ]
  },
  {
   "cell_type": "code",
   "execution_count": 15,
   "id": "marked-deficit",
   "metadata": {
    "ExecuteTime": {
     "end_time": "2021-04-04T07:33:50.850571Z",
     "start_time": "2021-04-04T07:33:50.838215Z"
    }
   },
   "outputs": [],
   "source": [
    "assert transcript_final['training_label'].sum()/ transcript_final.shape[0] > 0.7 \\\n",
    ", \"Training data accounts for less than 70% of the total data\""
   ]
  },
  {
   "cell_type": "code",
   "execution_count": 16,
   "id": "usual-cliff",
   "metadata": {
    "ExecuteTime": {
     "end_time": "2021-04-04T07:33:50.891776Z",
     "start_time": "2021-04-04T07:33:50.858178Z"
    }
   },
   "outputs": [],
   "source": [
    "transcript_training = transcript_final[transcript_final['training_label']==1]"
   ]
  },
  {
   "cell_type": "code",
   "execution_count": 17,
   "id": "prescription-portugal",
   "metadata": {
    "ExecuteTime": {
     "end_time": "2021-04-04T07:33:50.915833Z",
     "start_time": "2021-04-04T07:33:50.897428Z"
    }
   },
   "outputs": [],
   "source": [
    "transcript_testing = transcript_final[transcript_final['training_label']==0]"
   ]
  },
  {
   "cell_type": "code",
   "execution_count": 18,
   "id": "virtual-lottery",
   "metadata": {
    "ExecuteTime": {
     "end_time": "2021-04-04T07:33:50.961649Z",
     "start_time": "2021-04-04T07:33:50.924786Z"
    }
   },
   "outputs": [],
   "source": [
    "assert len(transcript_training['person'].unique()) >= len(transcript_testing['person'].unique()) \\\n",
    ", \"Training data include fewer customer than in the testin data\""
   ]
  },
  {
   "cell_type": "code",
   "execution_count": 19,
   "id": "fixed-gnome",
   "metadata": {
    "ExecuteTime": {
     "end_time": "2021-04-04T07:33:51.634560Z",
     "start_time": "2021-04-04T07:33:50.964960Z"
    }
   },
   "outputs": [],
   "source": [
    "transcript_training.to_sql('transcript_training', sql_connect, if_exists='replace')\n",
    "transcript_testing.to_sql('transcript_testing', sql_connect, if_exists='replace')"
   ]
  },
  {
   "cell_type": "markdown",
   "id": "great-implement",
   "metadata": {},
   "source": [
    "### Create offer features (only use transcript_training)"
   ]
  },
  {
   "cell_type": "code",
   "execution_count": 20,
   "id": "usual-advertising",
   "metadata": {
    "ExecuteTime": {
     "end_time": "2021-04-04T07:33:51.645554Z",
     "start_time": "2021-04-04T07:33:51.636942Z"
    }
   },
   "outputs": [],
   "source": [
    "def create_features_using_groupby(transcript_training, entity_col, feature, avg=True, min=True, max=True):\n",
    "    groupby = transcript_training.groupby(entity_col)[feature]\n",
    "    \n",
    "    features, col_name = [], []\n",
    "    if avg:\n",
    "        features.append(groupby.mean())\n",
    "        col_name.append('avg_'+feature)\n",
    "    if min:\n",
    "        features.append(groupby.min())\n",
    "        col_name.append('min_'+feature)\n",
    "    if max:\n",
    "        features.append(groupby.max())\n",
    "        col_name.append('max_'+feature)\n",
    "        \n",
    "    feature_df = pd.concat(features, axis=1)\n",
    "    feature_df.columns = col_name\n",
    "    \n",
    "    return feature_df"
   ]
  },
  {
   "cell_type": "code",
   "execution_count": 21,
   "id": "affiliated-problem",
   "metadata": {
    "ExecuteTime": {
     "end_time": "2021-04-04T07:33:51.679406Z",
     "start_time": "2021-04-04T07:33:51.648319Z"
    }
   },
   "outputs": [],
   "source": [
    "portfolio_duration = create_features_using_groupby(transcript_training, 'offer_id', 'duration_view')"
   ]
  },
  {
   "cell_type": "code",
   "execution_count": 22,
   "id": "elect-hierarchy",
   "metadata": {
    "ExecuteTime": {
     "end_time": "2021-04-04T07:33:51.702553Z",
     "start_time": "2021-04-04T07:33:51.681144Z"
    }
   },
   "outputs": [],
   "source": [
    "portfolio_view_rate = create_features_using_groupby(transcript_training, 'offer_id', 'label', min=False, max=False)\n",
    "portfolio_view_rate.columns=['view_rate']"
   ]
  },
  {
   "cell_type": "code",
   "execution_count": 23,
   "id": "liquid-rendering",
   "metadata": {
    "ExecuteTime": {
     "end_time": "2021-04-04T07:33:51.713637Z",
     "start_time": "2021-04-04T07:33:51.707360Z"
    }
   },
   "outputs": [],
   "source": [
    "portfolio_feat = pd.concat([portfolio_view_rate, portfolio_duration], axis=1)"
   ]
  },
  {
   "cell_type": "markdown",
   "id": "super-malaysia",
   "metadata": {},
   "source": [
    "#### check dimension match"
   ]
  },
  {
   "cell_type": "code",
   "execution_count": 24,
   "id": "consistent-victor",
   "metadata": {
    "ExecuteTime": {
     "end_time": "2021-04-04T07:33:51.727327Z",
     "start_time": "2021-04-04T07:33:51.716032Z"
    }
   },
   "outputs": [],
   "source": [
    "assert portfolio_feat.shape[0] == portfolio.shape[0], \"rows do not match with original data (portfolio)\""
   ]
  },
  {
   "cell_type": "code",
   "execution_count": 25,
   "id": "flying-ground",
   "metadata": {
    "ExecuteTime": {
     "end_time": "2021-04-04T07:33:51.743865Z",
     "start_time": "2021-04-04T07:33:51.730062Z"
    },
    "scrolled": true
   },
   "outputs": [],
   "source": [
    "portfolio = portfolio.join(portfolio_feat)"
   ]
  },
  {
   "cell_type": "markdown",
   "id": "super-wyoming",
   "metadata": {},
   "source": [
    "#### save to database"
   ]
  },
  {
   "cell_type": "code",
   "execution_count": 26,
   "id": "honey-equation",
   "metadata": {
    "ExecuteTime": {
     "end_time": "2021-04-04T07:33:51.789085Z",
     "start_time": "2021-04-04T07:33:51.747152Z"
    }
   },
   "outputs": [],
   "source": [
    "portfolio.to_sql('portfolio', sql_connect, if_exists='replace')"
   ]
  },
  {
   "cell_type": "markdown",
   "id": "particular-junction",
   "metadata": {},
   "source": [
    "### Create customer features (only use transcript_training)"
   ]
  },
  {
   "cell_type": "code",
   "execution_count": 27,
   "id": "peaceful-playlist",
   "metadata": {
    "ExecuteTime": {
     "end_time": "2021-04-04T07:33:51.796460Z",
     "start_time": "2021-04-04T07:33:51.792812Z"
    }
   },
   "outputs": [],
   "source": [
    "query = \"\"\"\n",
    "SELECT a.person, min(amount) as min_amount, max(amount) as max_amount, avg(amount) as avg_amount\n",
    "FROM transcript a\n",
    "    JOIN transcript_quantile b\n",
    "        ON a.person = b.person  \n",
    "WHERE a.time <= b.received_time\n",
    "GROUP BY a.person\n",
    "\"\"\""
   ]
  },
  {
   "cell_type": "code",
   "execution_count": 28,
   "id": "framed-diploma",
   "metadata": {
    "ExecuteTime": {
     "end_time": "2021-04-04T07:33:52.437102Z",
     "start_time": "2021-04-04T07:33:51.799643Z"
    },
    "scrolled": true
   },
   "outputs": [],
   "source": [
    "profile_amount = pd.read_sql_query(query,sql_connect).set_index('person')"
   ]
  },
  {
   "cell_type": "code",
   "execution_count": 29,
   "id": "oriented-honduras",
   "metadata": {
    "ExecuteTime": {
     "end_time": "2021-04-04T07:33:52.484640Z",
     "start_time": "2021-04-04T07:33:52.438568Z"
    }
   },
   "outputs": [],
   "source": [
    "profile_duration = create_features_using_groupby(transcript_training, 'person', 'duration_view')"
   ]
  },
  {
   "cell_type": "code",
   "execution_count": 30,
   "id": "computational-bridge",
   "metadata": {
    "ExecuteTime": {
     "end_time": "2021-04-04T07:33:52.535062Z",
     "start_time": "2021-04-04T07:33:52.486150Z"
    }
   },
   "outputs": [],
   "source": [
    "profile_view_rate = create_features_using_groupby(transcript_training, 'person', 'label', min=False, max=False)\n",
    "profile_view_rate.columns=['view_rate']"
   ]
  },
  {
   "cell_type": "code",
   "execution_count": 31,
   "id": "spectacular-monte",
   "metadata": {
    "ExecuteTime": {
     "end_time": "2021-04-04T07:33:52.677368Z",
     "start_time": "2021-04-04T07:33:52.536734Z"
    }
   },
   "outputs": [],
   "source": [
    "profile_trx_rate = (transcript_training.groupby('person').size()*100/(transcript_training.groupby('person')['received_time'].max() - transcript_training.groupby('person')['received_time'].min())).reset_index()\n",
    "profile_trx_rate.columns = ['person', 'avg_trx_cnt']\n",
    "profile_trx_rate.loc[profile_trx_rate['avg_trx_cnt']==np.inf, 'avg_trx_cnt'] = 1\n",
    "profile_trx_rate = profile_trx_rate.set_index('person')"
   ]
  },
  {
   "cell_type": "code",
   "execution_count": 32,
   "id": "faced-nebraska",
   "metadata": {
    "ExecuteTime": {
     "end_time": "2021-04-04T07:33:52.725134Z",
     "start_time": "2021-04-04T07:33:52.679402Z"
    }
   },
   "outputs": [],
   "source": [
    "profile_feat = profile_amount.join(profile_duration).join(profile_view_rate).join(profile_trx_rate)"
   ]
  },
  {
   "cell_type": "markdown",
   "id": "molecular-joining",
   "metadata": {},
   "source": [
    "#### check dimension match"
   ]
  },
  {
   "cell_type": "code",
   "execution_count": 33,
   "id": "parliamentary-drive",
   "metadata": {
    "ExecuteTime": {
     "end_time": "2021-04-04T07:33:52.744275Z",
     "start_time": "2021-04-04T07:33:52.727378Z"
    }
   },
   "outputs": [],
   "source": [
    "assert pd.merge(profile, profile_feat, how='left', left_index=True, right_index=True).shape[0] == profile.shape[0], \"rows do not match with original data (profile)\""
   ]
  },
  {
   "cell_type": "code",
   "execution_count": 34,
   "id": "increasing-telephone",
   "metadata": {
    "ExecuteTime": {
     "end_time": "2021-04-04T07:33:52.762255Z",
     "start_time": "2021-04-04T07:33:52.746332Z"
    }
   },
   "outputs": [],
   "source": [
    "profile = pd.merge(profile, profile_feat, how='left', left_index=True, right_index=True)"
   ]
  },
  {
   "cell_type": "markdown",
   "id": "sunset-removal",
   "metadata": {},
   "source": [
    "#### save to database"
   ]
  },
  {
   "cell_type": "code",
   "execution_count": 35,
   "id": "chinese-undergraduate",
   "metadata": {
    "ExecuteTime": {
     "end_time": "2021-04-04T07:33:53.035134Z",
     "start_time": "2021-04-04T07:33:52.764682Z"
    }
   },
   "outputs": [],
   "source": [
    "profile.to_sql('profile', sql_connect, if_exists='replace')"
   ]
  },
  {
   "cell_type": "code",
   "execution_count": 36,
   "id": "static-personality",
   "metadata": {
    "ExecuteTime": {
     "end_time": "2021-04-04T07:33:53.042779Z",
     "start_time": "2021-04-04T07:33:53.037506Z"
    }
   },
   "outputs": [],
   "source": [
    "cursor.close()"
   ]
  },
  {
   "cell_type": "code",
   "execution_count": null,
   "id": "selected-competition",
   "metadata": {},
   "outputs": [],
   "source": []
  }
 ],
 "metadata": {
  "kernelspec": {
   "display_name": "Python 3",
   "language": "python",
   "name": "python3"
  },
  "language_info": {
   "codemirror_mode": {
    "name": "ipython",
    "version": 3
   },
   "file_extension": ".py",
   "mimetype": "text/x-python",
   "name": "python",
   "nbconvert_exporter": "python",
   "pygments_lexer": "ipython3",
   "version": "3.6.12"
  }
 },
 "nbformat": 4,
 "nbformat_minor": 5
}
